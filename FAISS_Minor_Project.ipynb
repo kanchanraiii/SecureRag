{
  "nbformat": 4,
  "nbformat_minor": 0,
  "metadata": {
    "colab": {
      "provenance": [],
      "authorship_tag": "ABX9TyPyoCZT+rcW5EJZUyYYiP/O",
      "include_colab_link": true
    },
    "kernelspec": {
      "name": "python3",
      "display_name": "Python 3"
    },
    "language_info": {
      "name": "python"
    }
  },
  "cells": [
    {
      "cell_type": "markdown",
      "metadata": {
        "id": "view-in-github",
        "colab_type": "text"
      },
      "source": [
        "<a href=\"https://colab.research.google.com/github/kanchanraiii/SecureRag/blob/master/FAISS_Minor_Project.ipynb\" target=\"_parent\"><img src=\"https://colab.research.google.com/assets/colab-badge.svg\" alt=\"Open In Colab\"/></a>"
      ]
    },
    {
      "cell_type": "code",
      "execution_count": null,
      "metadata": {
        "id": "My-CIPLj2PW6"
      },
      "outputs": [],
      "source": [
        "!pip install faiss-cpu sentence-transformers\n"
      ]
    },
    {
      "cell_type": "code",
      "source": [
        "from google.colab import files\n",
        "\n",
        "uploaded = files.upload()\n"
      ],
      "metadata": {
        "id": "YhK9oajV2hpL"
      },
      "execution_count": null,
      "outputs": []
    },
    {
      "cell_type": "code",
      "source": [
        "import faiss\n",
        "import numpy as np\n",
        "import json\n",
        "from sentence_transformers import SentenceTransformer\n"
      ],
      "metadata": {
        "id": "Kh5W-HaS3A9H"
      },
      "execution_count": null,
      "outputs": []
    },
    {
      "cell_type": "code",
      "source": [
        "model = SentenceTransformer('all-MiniLM-L6-v2')\n"
      ],
      "metadata": {
        "id": "lv9Dwo6C3XzU"
      },
      "execution_count": null,
      "outputs": []
    },
    {
      "cell_type": "code",
      "source": [
        "docs = []\n",
        "with open(\"ecommerce_dataset.jsonl\", \"r\") as f:\n",
        "    for line in f:\n",
        "        obj = json.loads(line)\n",
        "\n",
        "        # Join all key-value pairs into one text string\n",
        "        text = \" | \".join([f\"{k}: {v}\" for k, v in obj.items()])\n",
        "\n",
        "        docs.append(text)\n",
        "\n",
        "print(f\"Loaded {len(docs)} documents\")\n",
        "print(\"Example doc:\", docs[0][:300], \"...\")\n"
      ],
      "metadata": {
        "id": "idx0O4Dr3hE1"
      },
      "execution_count": null,
      "outputs": []
    },
    {
      "cell_type": "code",
      "source": [
        "embeddings = model.encode(docs)\n",
        "embeddings = np.array(embeddings).astype(\"float32\")\n",
        "\n",
        "d = embeddings.shape[1]   # embedding dimension\n",
        "index = faiss.IndexFlatL2(d)\n",
        "index.add(embeddings)\n",
        "\n",
        "print(f\"Indexed {len(docs)} documents\")\n"
      ],
      "metadata": {
        "id": "aBcFYbO84J3-"
      },
      "execution_count": null,
      "outputs": []
    },
    {
      "cell_type": "code",
      "source": [
        "def search(query, k=3):\n",
        "    q_vec = model.encode([query]).astype(\"float32\")\n",
        "    distances, indices = index.search(q_vec, k)\n",
        "    results = [docs[i] for i in indices[0]]\n",
        "    return results\n"
      ],
      "metadata": {
        "id": "7Qgpg3Zz4Ql5"
      },
      "execution_count": null,
      "outputs": []
    },
    {
      "cell_type": "code",
      "source": [
        "query = \"Which customer ordered electronics?\"\n",
        "retrieved = search(query, k=2)\n",
        "\n",
        "print(\"Query:\", query)\n",
        "print(\"Retrieved docs:\")\n",
        "for doc in retrieved:\n",
        "    print(\"-\", doc[:300], \"...\\n\")"
      ],
      "metadata": {
        "id": "03XcVKfK5_HF"
      },
      "execution_count": null,
      "outputs": []
    }
  ]
}